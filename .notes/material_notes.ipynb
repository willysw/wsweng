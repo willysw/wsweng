{
 "cells": [
  {
   "cell_type": "markdown",
   "metadata": {},
   "source": [
    "# Material Class Notes & Thoughts\n",
    "\n",
    "General thoughts on how to build a general material class for use throughout. Class should strive to achieve the following goals:\n",
    "\n",
    "- Should work with linear and non-linear materials.\n",
    "- Base class should be as general as possible.\n",
    "- Materials should be workable with specific codes.\n",
    "- Materials should be extendable to use ASCE41 & tested properties.\n",
    "- Leave room for orthotrophic materials?"
   ]
  },
  {
   "cell_type": "markdown",
   "metadata": {},
   "source": [
    "![image](materials.svg)"
   ]
  },
  {
   "cell_type": "markdown",
   "metadata": {},
   "source": [
    "## Base Class"
   ]
  },
  {
   "cell_type": "code",
   "execution_count": 15,
   "metadata": {},
   "outputs": [],
   "source": [
    "from dataclasses import dataclass, KW_ONLY\n",
    "from numpy import ndarray\n",
    "from numpy.typing import ArrayLike\n",
    "\n",
    "@dataclass\n",
    "class Material:\n",
    "    E: float\n",
    "    specific_gravity: float\n",
    "    _: KW_ONLY\n",
    "    name: str = \"\"\n",
    "    short_name: str = \"\"\n",
    "    poissons_ratio: float = 0.3\n",
    "\n",
    "    def stress(self, strain: ArrayLike) -> float | ndarray:\n",
    "        \"\"\" Calculate the stress corresponding to the given strain.\n",
    "\n",
    "        Parameters\n",
    "        ----------\n",
    "        strain : array_like\n",
    "            The strain or array of strains to compute.\n",
    "\n",
    "        Returns\n",
    "        -------\n",
    "        float | ndarray\n",
    "            The computed stress or array of stresses.\n",
    "        \"\"\"\n",
    "        return strain*self.E\n",
    "\n",
    "    def elastic_modulus(self, strain: ArrayLike = 0.0) -> float | ndarray:\n",
    "        \"\"\" Compute the instantaneous elastic modulus at the given strain. \n",
    "        Always returns `E` for simple elastic materials.\n",
    "\n",
    "        Parameters\n",
    "        ----------\n",
    "        strain : ArrayLike, optional\n",
    "            Strain or array of strains, by default 0.0\n",
    "\n",
    "        Returns\n",
    "        -------\n",
    "        float | ndarray\n",
    "            The computed instantaneous elastic modulus.\n",
    "        \"\"\"\n",
    "        return np.full_like(strain, self.E)"
   ]
  },
  {
   "cell_type": "markdown",
   "metadata": {},
   "source": [
    "## Wood\n",
    "\n",
    "Trial class for wood materials. This is probably the simplest class because it is fully elastic."
   ]
  },
  {
   "cell_type": "code",
   "execution_count": 16,
   "metadata": {},
   "outputs": [],
   "source": [
    "import numpy as np\n",
    "\n",
    "@dataclass\n",
    "class Wood(Material):\n",
    "    Fb: float\n",
    "    Ft: float\n",
    "    Fv: float\n",
    "    Fcp: float\n",
    "    Fc: float\n",
    "    Emin: float\n",
    "    _: KW_ONLY\n",
    "    species: str = \"\"\n",
    "    grade: str = \"\""
   ]
  }
 ],
 "metadata": {
  "interpreter": {
   "hash": "e457e78b47900efc50d49288f337635c1781340329a2de8c8d6b5456fc7865fa"
  },
  "kernelspec": {
   "display_name": "Python 3.10.4 ('wsweng')",
   "language": "python",
   "name": "python3"
  },
  "language_info": {
   "codemirror_mode": {
    "name": "ipython",
    "version": 3
   },
   "file_extension": ".py",
   "mimetype": "text/x-python",
   "name": "python",
   "nbconvert_exporter": "python",
   "pygments_lexer": "ipython3",
   "version": "3.10.4"
  },
  "orig_nbformat": 4
 },
 "nbformat": 4,
 "nbformat_minor": 2
}

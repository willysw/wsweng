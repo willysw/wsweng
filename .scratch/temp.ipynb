{
 "cells": [
  {
   "cell_type": "code",
   "execution_count": 55,
   "metadata": {},
   "outputs": [],
   "source": [
    "%matplotlib widget\n",
    "\n",
    "from IPython.display import Markdown\n",
    "from tabulate import tabulate\n",
    "import pandas as pd\n",
    "import numpy as np\n",
    "import matplotlib.pyplot as plt\n",
    "clips = pd.read_csv(\"beam_clips.csv\", index_col=0)\n",
    "clips = clips[clips.d >= 0.75]\n",
    "clips = clips[clips.h_beam > 10.5]\n",
    "clips = clips.reset_index(drop=True)"
   ]
  },
  {
   "cell_type": "code",
   "execution_count": 56,
   "metadata": {},
   "outputs": [
    {
     "data": {
      "text/markdown": [
       "|  h   |  1.5  |  1.75  |  3.0  |  3.5  |  5.125  |  5.25  |  5.5  |  7.0  |\n",
       "|:----:|:-----:|:------:|:-----:|:-----:|:-------:|:------:|:-----:|:-----:|\n",
       "|  11  | 0.75  |  0.75  | 0.75  | 0.75  |  0.875  | 0.875  | 0.875 | 0.875 |\n",
       "|  12  | 0.75  |  0.75  | 0.75  | 0.75  |  0.75   |  0.75  |   1   |   1   |\n",
       "|  13  | 0.75  |  0.75  | 0.75  | 0.75  |  0.875  | 0.875  | 0.875 | 0.875 |\n",
       "| 13.5 | 0.75  |  0.75  | 0.75  | 0.75  |  0.75   |  0.75  | 0.75  | 0.75  |\n",
       "|  14  | 0.75  |  0.75  | 0.75  | 0.75  |  0.75   |  0.75  |   1   |   1   |\n",
       "| 14.5 | 0.75  |  0.75  | 0.75  | 0.75  |  0.875  | 0.875  | 0.875 | 0.875 |\n",
       "|  15  | 0.75  |  0.75  | 0.75  | 0.75  |  0.75   |  0.75  | 0.75  | 0.75  |\n",
       "| 15.5 | 0.75  |  0.75  | 0.75  | 0.75  |  0.75   |  0.75  | 0.75  |   1   |\n",
       "|  16  | 0.75  |  0.75  | 0.75  | 0.75  |  0.875  | 0.875  |   1   |   1   |\n",
       "|  17  | 0.75  |  0.75  | 0.75  | 0.75  |  0.875  | 0.875  | 0.875 |   1   |\n",
       "|  18  | 0.75  |  0.75  | 0.75  | 0.75  |  0.75   |  0.75  | 0.75  |   1   |\n",
       "| 18.5 | 0.75  |  0.75  | 0.75  | 0.75  |  0.75   |  0.75  | 0.75  |   1   |\n",
       "|  19  | 0.75  |  0.75  | 0.75  | 0.75  |  0.875  | 0.875  | 0.875 | 0.875 |\n",
       "| 19.5 | 0.75  |  0.75  | 0.75  | 0.75  |  0.875  | 0.875  | 0.875 | 0.875 |\n",
       "|  20  | 0.75  |  0.75  | 0.75  | 0.75  |    1    |   1    |   1   |   1   |\n",
       "| 20.5 | 0.75  |  0.75  | 0.75  | 0.75  |    1    |   1    |   1   |   1   |\n",
       "|  21  | 0.75  |  0.75  | 0.75  | 0.75  |  0.75   |  0.75  |   1   |   1   |\n",
       "|  22  | 0.75  |  0.75  | 0.75  | 0.75  |  0.875  | 0.875  | 0.875 | 0.875 |\n",
       "|  23  | 0.75  |  0.75  | 0.75  | 0.75  |  0.875  | 0.875  |   1   |   1   |\n",
       "| 23.5 | 0.75  |  0.75  | 0.75  | 0.75  |  0.75   |  0.75  |   1   |   1   |\n",
       "|  24  | 0.75  |  0.75  | 0.75  | 0.75  |    1    |   1    |   1   |   1   |"
      ],
      "text/plain": [
       "<IPython.core.display.Markdown object>"
      ]
     },
     "execution_count": 56,
     "metadata": {},
     "output_type": "execute_result"
    }
   ],
   "source": [
    "series_list = []\n",
    "for di in np.sort(clips.h_beam.unique()):\n",
    "    subset = clips.iloc[\n",
    "        clips.loc[clips.h_beam <= di].groupby(\"t\")[\"z\"].idxmax()\n",
    "    ].copy()\n",
    "    subset[\"h\"] = di\n",
    "    series_list.append(subset)\n",
    "\n",
    "clip_frame = pd.concat(series_list)\n",
    "clip_frame[\"item\"] = [f\"({ni:d})-{di:#.3f} @ {si:2g}oc\" for ni, di, si in zip(clip_frame.n, clip_frame.d, clip_frame.s)]\n",
    "# print(clip_frame.head(1))\n",
    "\n",
    "clip_sched = pd.pivot(\n",
    "    clip_frame,\n",
    "    index=[\"h\"],\n",
    "    columns=[\"t\"],\n",
    "    values=[\"d\"]\n",
    ")\n",
    "clip_sched.columns = pd.Index(np.sort(clips.t.unique()))\n",
    "\n",
    "Markdown(tabulate(\n",
    "        clip_sched.loc[7.5:24],\n",
    "        headers=\"keys\",\n",
    "        tablefmt=\"pipe\", # \"pipe\", \"rst\", \"latex\"\n",
    "        numalign=\"center\",\n",
    "        colalign=[\"center\"],\n",
    "        showindex=True,\n",
    "    )\n",
    ")"
   ]
  },
  {
   "cell_type": "code",
   "execution_count": null,
   "metadata": {},
   "outputs": [],
   "source": []
  }
 ],
 "metadata": {
  "interpreter": {
   "hash": "e457e78b47900efc50d49288f337635c1781340329a2de8c8d6b5456fc7865fa"
  },
  "kernelspec": {
   "display_name": "Python 3.10.4 ('wsweng')",
   "language": "python",
   "name": "python3"
  },
  "language_info": {
   "codemirror_mode": {
    "name": "ipython",
    "version": 3
   },
   "file_extension": ".py",
   "mimetype": "text/x-python",
   "name": "python",
   "nbconvert_exporter": "python",
   "pygments_lexer": "ipython3",
   "version": "3.10.4"
  },
  "orig_nbformat": 4
 },
 "nbformat": 4,
 "nbformat_minor": 2
}

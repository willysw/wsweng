{
 "cells": [
  {
   "cell_type": "markdown",
   "metadata": {},
   "source": [
    "# Wood Beam Clips"
   ]
  },
  {
   "cell_type": "code",
   "execution_count": 85,
   "metadata": {},
   "outputs": [],
   "source": [
    "from functools import partial\n",
    "from itertools import product\n",
    "from IPython.display import Markdown\n",
    "import numpy as np\n",
    "import pandas as pd\n",
    "from wsweng.wood.dowels import wood_bolt"
   ]
  },
  {
   "cell_type": "markdown",
   "metadata": {},
   "source": [
    "## Givens"
   ]
  },
  {
   "cell_type": "code",
   "execution_count": 86,
   "metadata": {},
   "outputs": [],
   "source": [
    "diameters = [0.625, 0.75, 0.875, 1.0]  # Nominal diameter, inches\n",
    "thicknesses = [3.00, 3.50, 5.125, 5.25, 5.50, 7.0]\n",
    "bolt_counts = range(2, 7, 1)\n",
    "spacings = [2.5, 3, 4]\n",
    "clip_thickness = 1/4.0\n",
    "species = \"DFL\"\n",
    "steel = \"A36\"\n",
    "make_bolt = partial(\n",
    "    wood_bolt,\n",
    "    full_diameter=False,\n",
    "    main_material=species,\n",
    "    side_material=steel,\n",
    "    side_thickness=clip_thickness\n",
    ")"
   ]
  },
  {
   "cell_type": "markdown",
   "metadata": {},
   "source": [
    "### Generate design permutations\n",
    "\n",
    "Find all permutations of diameter, thickness, N and double shear:"
   ]
  },
  {
   "cell_type": "code",
   "execution_count": 87,
   "metadata": {},
   "outputs": [
    {
     "data": {
      "text/html": [
       "<div>\n",
       "<style scoped>\n",
       "    .dataframe tbody tr th:only-of-type {\n",
       "        vertical-align: middle;\n",
       "    }\n",
       "\n",
       "    .dataframe tbody tr th {\n",
       "        vertical-align: top;\n",
       "    }\n",
       "\n",
       "    .dataframe thead th {\n",
       "        text-align: right;\n",
       "    }\n",
       "</style>\n",
       "<table border=\"1\" class=\"dataframe\">\n",
       "  <thead>\n",
       "    <tr style=\"text-align: right;\">\n",
       "      <th></th>\n",
       "      <th>d</th>\n",
       "      <th>t</th>\n",
       "      <th>n</th>\n",
       "      <th>s</th>\n",
       "      <th>ds</th>\n",
       "    </tr>\n",
       "  </thead>\n",
       "  <tbody>\n",
       "    <tr>\n",
       "      <th>342</th>\n",
       "      <td>0.75</td>\n",
       "      <td>7.0</td>\n",
       "      <td>4</td>\n",
       "      <td>2.5</td>\n",
       "      <td>True</td>\n",
       "    </tr>\n",
       "    <tr>\n",
       "      <th>701</th>\n",
       "      <td>1.00</td>\n",
       "      <td>7.0</td>\n",
       "      <td>3</td>\n",
       "      <td>4.0</td>\n",
       "      <td>False</td>\n",
       "    </tr>\n",
       "    <tr>\n",
       "      <th>592</th>\n",
       "      <td>1.00</td>\n",
       "      <td>3.5</td>\n",
       "      <td>5</td>\n",
       "      <td>4.0</td>\n",
       "      <td>True</td>\n",
       "    </tr>\n",
       "  </tbody>\n",
       "</table>\n",
       "</div>"
      ],
      "text/plain": [
       "        d    t  n    s     ds\n",
       "342  0.75  7.0  4  2.5   True\n",
       "701  1.00  7.0  3  4.0  False\n",
       "592  1.00  3.5  5  4.0   True"
      ]
     },
     "execution_count": 87,
     "metadata": {},
     "output_type": "execute_result"
    }
   ],
   "source": [
    "p_dia = product(diameters, thicknesses, bolt_counts, spacings, [True, False])\n",
    "bolts = pd.DataFrame(data=p_dia, columns=[\"d\", \"t\", \"n\", \"s\", \"ds\"])\n",
    "bolts.sample(3)"
   ]
  },
  {
   "cell_type": "markdown",
   "metadata": {},
   "source": [
    "### Calculate capacity"
   ]
  },
  {
   "cell_type": "code",
   "execution_count": 88,
   "metadata": {},
   "outputs": [
    {
     "data": {
      "text/html": [
       "<div>\n",
       "<style scoped>\n",
       "    .dataframe tbody tr th:only-of-type {\n",
       "        vertical-align: middle;\n",
       "    }\n",
       "\n",
       "    .dataframe tbody tr th {\n",
       "        vertical-align: top;\n",
       "    }\n",
       "\n",
       "    .dataframe thead th {\n",
       "        text-align: right;\n",
       "    }\n",
       "</style>\n",
       "<table border=\"1\" class=\"dataframe\">\n",
       "  <thead>\n",
       "    <tr style=\"text-align: right;\">\n",
       "      <th></th>\n",
       "      <th>d</th>\n",
       "      <th>t</th>\n",
       "      <th>n</th>\n",
       "      <th>s</th>\n",
       "      <th>ds</th>\n",
       "      <th>c_spcg</th>\n",
       "      <th>z</th>\n",
       "    </tr>\n",
       "  </thead>\n",
       "  <tbody>\n",
       "    <tr>\n",
       "      <th>461</th>\n",
       "      <td>0.875</td>\n",
       "      <td>5.250</td>\n",
       "      <td>3</td>\n",
       "      <td>4.0</td>\n",
       "      <td>False</td>\n",
       "      <td>1.0</td>\n",
       "      <td>2637.521747</td>\n",
       "    </tr>\n",
       "    <tr>\n",
       "      <th>327</th>\n",
       "      <td>0.750</td>\n",
       "      <td>5.500</td>\n",
       "      <td>6</td>\n",
       "      <td>3.0</td>\n",
       "      <td>False</td>\n",
       "      <td>1.0</td>\n",
       "      <td>4111.559732</td>\n",
       "    </tr>\n",
       "    <tr>\n",
       "      <th>628</th>\n",
       "      <td>1.000</td>\n",
       "      <td>5.125</td>\n",
       "      <td>6</td>\n",
       "      <td>4.0</td>\n",
       "      <td>True</td>\n",
       "      <td>1.0</td>\n",
       "      <td>11630.405782</td>\n",
       "    </tr>\n",
       "  </tbody>\n",
       "</table>\n",
       "</div>"
      ],
      "text/plain": [
       "         d      t  n    s     ds  c_spcg             z\n",
       "461  0.875  5.250  3  4.0  False     1.0   2637.521747\n",
       "327  0.750  5.500  6  3.0  False     1.0   4111.559732\n",
       "628  1.000  5.125  6  4.0   True     1.0  11630.405782"
      ]
     },
     "execution_count": 88,
     "metadata": {},
     "output_type": "execute_result"
    }
   ],
   "source": [
    "_z0 = [make_bolt(_d, _t, double_shear=_ds).Zv(theta=90.0)\n",
    "               for _d, _t, _ds in zip(bolts[\"d\"], bolts[\"t\"], bolts[\"ds\"])]\n",
    "_c_spcg = np.clip(bolts[\"s\"]/(4*bolts[\"d\"]), 0, 1.0)\n",
    "bolts[\"c_spcg\"] = np.where(_c_spcg < 0.5, 0, _c_spcg)  # Zero capacity for less than min spacing.\n",
    "bolts[\"z\"] = bolts[\"n\"]*_c_spcg*_z0\n",
    "bolts.sample(3)"
   ]
  },
  {
   "cell_type": "markdown",
   "metadata": {},
   "source": [
    "### Geometry"
   ]
  },
  {
   "cell_type": "code",
   "execution_count": 89,
   "metadata": {},
   "outputs": [
    {
     "data": {
      "text/html": [
       "<div>\n",
       "<style scoped>\n",
       "    .dataframe tbody tr th:only-of-type {\n",
       "        vertical-align: middle;\n",
       "    }\n",
       "\n",
       "    .dataframe tbody tr th {\n",
       "        vertical-align: top;\n",
       "    }\n",
       "\n",
       "    .dataframe thead th {\n",
       "        text-align: right;\n",
       "    }\n",
       "</style>\n",
       "<table border=\"1\" class=\"dataframe\">\n",
       "  <thead>\n",
       "    <tr style=\"text-align: right;\">\n",
       "      <th></th>\n",
       "      <th>d</th>\n",
       "      <th>t</th>\n",
       "      <th>n</th>\n",
       "      <th>s</th>\n",
       "      <th>ds</th>\n",
       "      <th>c_spcg</th>\n",
       "      <th>z</th>\n",
       "      <th>h_beam</th>\n",
       "      <th>h_clip</th>\n",
       "      <th>d_end</th>\n",
       "    </tr>\n",
       "  </thead>\n",
       "  <tbody>\n",
       "    <tr>\n",
       "      <th>480</th>\n",
       "      <td>0.875</td>\n",
       "      <td>5.5</td>\n",
       "      <td>2</td>\n",
       "      <td>2.5</td>\n",
       "      <td>True</td>\n",
       "      <td>0.714286</td>\n",
       "      <td>2524.601164</td>\n",
       "      <td>9.5</td>\n",
       "      <td>5.5</td>\n",
       "      <td>1.3125</td>\n",
       "    </tr>\n",
       "    <tr>\n",
       "      <th>217</th>\n",
       "      <td>0.750</td>\n",
       "      <td>3.5</td>\n",
       "      <td>3</td>\n",
       "      <td>2.5</td>\n",
       "      <td>False</td>\n",
       "      <td>0.833333</td>\n",
       "      <td>1413.798108</td>\n",
       "      <td>11.0</td>\n",
       "      <td>8.0</td>\n",
       "      <td>1.2500</td>\n",
       "    </tr>\n",
       "    <tr>\n",
       "      <th>398</th>\n",
       "      <td>0.875</td>\n",
       "      <td>3.5</td>\n",
       "      <td>3</td>\n",
       "      <td>3.0</td>\n",
       "      <td>True</td>\n",
       "      <td>0.857143</td>\n",
       "      <td>3175.040419</td>\n",
       "      <td>13.0</td>\n",
       "      <td>9.0</td>\n",
       "      <td>1.3125</td>\n",
       "    </tr>\n",
       "  </tbody>\n",
       "</table>\n",
       "</div>"
      ],
      "text/plain": [
       "         d    t  n    s     ds    c_spcg            z  h_beam  h_clip   d_end\n",
       "480  0.875  5.5  2  2.5   True  0.714286  2524.601164     9.5     5.5  1.3125\n",
       "217  0.750  3.5  3  2.5  False  0.833333  1413.798108    11.0     8.0  1.2500\n",
       "398  0.875  3.5  3  3.0   True  0.857143  3175.040419    13.0     9.0  1.3125"
      ]
     },
     "execution_count": 89,
     "metadata": {},
     "output_type": "execute_result"
    }
   ],
   "source": [
    "bolts[\"h_beam\"] = (bolts[\"n\"] - 1)*bolts[\"s\"] + 2*4*bolts[\"d\"]\n",
    "bolts[\"h_clip\"] = (bolts[\"n\"] - 1)*bolts[\"s\"] + 3.0\n",
    "bolts[\"d_end\"] = np.clip(1.5*bolts[\"d\"], 1.25, np.inf)\n",
    "\n",
    "bolts.sample(3)"
   ]
  },
  {
   "cell_type": "markdown",
   "metadata": {},
   "source": [
    "## Schedules"
   ]
  },
  {
   "cell_type": "code",
   "execution_count": 97,
   "metadata": {},
   "outputs": [
    {
     "data": {
      "text/html": [
       "<div>\n",
       "<style scoped>\n",
       "    .dataframe tbody tr th:only-of-type {\n",
       "        vertical-align: middle;\n",
       "    }\n",
       "\n",
       "    .dataframe tbody tr th {\n",
       "        vertical-align: top;\n",
       "    }\n",
       "\n",
       "    .dataframe thead th {\n",
       "        text-align: right;\n",
       "    }\n",
       "</style>\n",
       "<table border=\"1\" class=\"dataframe\">\n",
       "  <thead>\n",
       "    <tr style=\"text-align: right;\">\n",
       "      <th></th>\n",
       "      <th></th>\n",
       "      <th></th>\n",
       "      <th></th>\n",
       "      <th></th>\n",
       "      <th>t</th>\n",
       "      <th>3.000</th>\n",
       "      <th>3.500</th>\n",
       "      <th>5.125</th>\n",
       "      <th>5.250</th>\n",
       "      <th>5.500</th>\n",
       "      <th>7.000</th>\n",
       "    </tr>\n",
       "    <tr>\n",
       "      <th>ds</th>\n",
       "      <th>s</th>\n",
       "      <th>d</th>\n",
       "      <th>n</th>\n",
       "      <th>h_beam</th>\n",
       "      <th>h_clip</th>\n",
       "      <th></th>\n",
       "      <th></th>\n",
       "      <th></th>\n",
       "      <th></th>\n",
       "      <th></th>\n",
       "      <th></th>\n",
       "    </tr>\n",
       "  </thead>\n",
       "  <tbody>\n",
       "    <tr>\n",
       "      <th rowspan=\"3\" valign=\"top\">False</th>\n",
       "      <th rowspan=\"3\" valign=\"top\">2.5</th>\n",
       "      <th rowspan=\"3\" valign=\"top\">0.625</th>\n",
       "      <th>2</th>\n",
       "      <th>7.5</th>\n",
       "      <th>5.5</th>\n",
       "      <td>889.6</td>\n",
       "      <td>1004.2</td>\n",
       "      <td>1021.8</td>\n",
       "      <td>1021.8</td>\n",
       "      <td>1021.8</td>\n",
       "      <td>1021.8</td>\n",
       "    </tr>\n",
       "    <tr>\n",
       "      <th>3</th>\n",
       "      <th>10.0</th>\n",
       "      <th>8.0</th>\n",
       "      <td>1334.4</td>\n",
       "      <td>1506.3</td>\n",
       "      <td>1532.7</td>\n",
       "      <td>1532.7</td>\n",
       "      <td>1532.7</td>\n",
       "      <td>1532.7</td>\n",
       "    </tr>\n",
       "    <tr>\n",
       "      <th>4</th>\n",
       "      <th>12.5</th>\n",
       "      <th>10.5</th>\n",
       "      <td>1779.2</td>\n",
       "      <td>2008.5</td>\n",
       "      <td>2043.5</td>\n",
       "      <td>2043.5</td>\n",
       "      <td>2043.5</td>\n",
       "      <td>2043.5</td>\n",
       "    </tr>\n",
       "  </tbody>\n",
       "</table>\n",
       "</div>"
      ],
      "text/plain": [
       "t                                 3.000   3.500   5.125   5.250   5.500  \\\n",
       "ds    s   d     n h_beam h_clip                                           \n",
       "False 2.5 0.625 2 7.5    5.5      889.6  1004.2  1021.8  1021.8  1021.8   \n",
       "                3 10.0   8.0     1334.4  1506.3  1532.7  1532.7  1532.7   \n",
       "                4 12.5   10.5    1779.2  2008.5  2043.5  2043.5  2043.5   \n",
       "\n",
       "t                                 7.000  \n",
       "ds    s   d     n h_beam h_clip          \n",
       "False 2.5 0.625 2 7.5    5.5     1021.8  \n",
       "                3 10.0   8.0     1532.7  \n",
       "                4 12.5   10.5    2043.5  "
      ]
     },
     "metadata": {},
     "output_type": "display_data"
    }
   ],
   "source": [
    "full_sched = bolts.pivot(index=[\"ds\", \"s\", \"d\", \"n\", \"h_beam\", \"h_clip\"], columns=[\"t\"], values=\"z\")\n",
    "display(full_sched.head(3).round(1))"
   ]
  },
  {
   "cell_type": "code",
   "execution_count": 112,
   "metadata": {},
   "outputs": [],
   "source": [
    "def display_sched(d, s):\n",
    "    _md = \"\"\n",
    "    _md += f\"#### {d:.3f}\\\"dia at {s:.2f}\\\"oc., Single Shear\\n\\n\"\n",
    "    sched = full_sched.loc[(False, s, d, slice(None))]\n",
    "    _md += sched.round(1).reset_index(level=(\"h_beam\", \"h_clip\")).to_markdown()\n",
    "\n",
    "    _md += \"\\n\\n\"\n",
    "    _md += f\"#### {d:.3f}\\\"dia at {s:.2f}\\\"oc., Double Shear\\n\\n\"\n",
    "    sched = full_sched.loc[(True, s, d, slice(None))]\n",
    "    _md += (sched.round(1).reset_index(level=(\"h_beam\", \"h_clip\"))).to_markdown()\n",
    "\n",
    "    _md = _md.replace(\"h_beam\", \"Min Beam Height\")\n",
    "    _md = _md.replace(\"h_clip\", \"Clip Length\")\n",
    "\n",
    "    return Markdown(_md)"
   ]
  },
  {
   "cell_type": "markdown",
   "metadata": {},
   "source": [
    "### 3/4 Bolts, 3\" Spacing"
   ]
  },
  {
   "cell_type": "code",
   "execution_count": 113,
   "metadata": {},
   "outputs": [
    {
     "data": {
      "text/markdown": [
       "#### 0.750\"dia at 3.00\"oc., Single Shear\n",
       "\n",
       "|   n |   Min Beam Height |   Clip Length |    3.0 |    3.5 |   5.125 |   5.25 |    5.5 |    7.0 |\n",
       "|----:|---------:|---------:|-------:|-------:|--------:|-------:|-------:|-------:|\n",
       "|   2 |        9 |        6 | 1005.1 | 1131   |  1370.5 | 1370.5 | 1370.5 | 1370.5 |\n",
       "|   3 |       12 |        9 | 1507.7 | 1696.6 |  2055.8 | 2055.8 | 2055.8 | 2055.8 |\n",
       "|   4 |       15 |       12 | 2010.3 | 2262.1 |  2741   | 2741   | 2741   | 2741   |\n",
       "|   5 |       18 |       15 | 2512.8 | 2827.6 |  3426.3 | 3426.3 | 3426.3 | 3426.3 |\n",
       "|   6 |       21 |       18 | 3015.4 | 3393.1 |  4111.6 | 4111.6 | 4111.6 | 4111.6 |\n",
       "\n",
       "#### 0.750\"dia at 3.00\"oc., Double Shear\n",
       "\n",
       "|   n |   Min Beam Height |   Clip Length |    3.0 |    3.5 |   5.125 |   5.25 |    5.5 |    7.0 |\n",
       "|----:|---------:|---------:|-------:|-------:|--------:|-------:|-------:|-------:|\n",
       "|   2 |        9 |        6 | 1939.8 | 2263.1 |  2741   | 2741   | 2741   | 2741   |\n",
       "|   3 |       12 |        9 | 2909.7 | 3394.6 |  4111.6 | 4111.6 | 4111.6 | 4111.6 |\n",
       "|   4 |       15 |       12 | 3879.6 | 4526.2 |  5482.1 | 5482.1 | 5482.1 | 5482.1 |\n",
       "|   5 |       18 |       15 | 4849.5 | 5657.7 |  6852.6 | 6852.6 | 6852.6 | 6852.6 |\n",
       "|   6 |       21 |       18 | 5819.4 | 6789.3 |  8223.1 | 8223.1 | 8223.1 | 8223.1 |"
      ],
      "text/plain": [
       "<IPython.core.display.Markdown object>"
      ]
     },
     "execution_count": 113,
     "metadata": {},
     "output_type": "execute_result"
    }
   ],
   "source": [
    "display_sched(0.75, 3)"
   ]
  },
  {
   "cell_type": "code",
   "execution_count": null,
   "metadata": {},
   "outputs": [],
   "source": []
  }
 ],
 "metadata": {
  "interpreter": {
   "hash": "e457e78b47900efc50d49288f337635c1781340329a2de8c8d6b5456fc7865fa"
  },
  "kernelspec": {
   "display_name": "Python 3.10.4 ('wsweng')",
   "language": "python",
   "name": "python3"
  },
  "language_info": {
   "codemirror_mode": {
    "name": "ipython",
    "version": 3
   },
   "file_extension": ".py",
   "mimetype": "text/x-python",
   "name": "python",
   "nbconvert_exporter": "python",
   "pygments_lexer": "ipython3",
   "version": "3.10.4"
  },
  "orig_nbformat": 4
 },
 "nbformat": 4,
 "nbformat_minor": 2
}

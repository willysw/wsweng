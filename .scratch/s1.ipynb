{
 "cells": [
  {
   "cell_type": "code",
   "execution_count": 12,
   "metadata": {},
   "outputs": [],
   "source": [
    "from wsweng.wood.dowels import WoodDowel, wood_bolt\n",
    "\n",
    "def pdowel(dwl: WoodDowel, theta: float):\n",
    "    for _k, _v in dict(\n",
    "        kd = dwl.kd,\n",
    "        rt = dwl.rt,\n",
    "        fem = dwl.fem(theta),\n",
    "        fes = dwl.fes(theta),\n",
    "        re = dwl.re(theta),\n",
    "        k1 = dwl.k1(theta),\n",
    "        k2 = dwl.k2(theta),\n",
    "        k3 = dwl.k3(theta),\n",
    "        zim = dwl.zim(theta),\n",
    "        zis = dwl.zis(theta),\n",
    "        zii = dwl.zii(theta),\n",
    "        ziiim = dwl.ziiim(theta),\n",
    "        ziiis = dwl.ziiis(theta),\n",
    "        ziv = dwl.ziv(theta),\n",
    "        Z = dwl.Zv(theta),\n",
    "        W = dwl.Zw(),\n",
    "    ).items():\n",
    "        if _v is not None:\n",
    "            print(f\"{_k} = {_v:#.5g}\")\n",
    "        else:\n",
    "            print(f\"{_k} = None\")"
   ]
  },
  {
   "cell_type": "markdown",
   "metadata": {},
   "source": [
    "## Example 12.3\n",
    "\n",
    "_Breyer, \"Design of Wood Structures\", page 12.13._\n",
    "\n",
    "16d, 2x to 4x, DFL, $\\theta$=0.0"
   ]
  },
  {
   "cell_type": "code",
   "execution_count": 13,
   "metadata": {},
   "outputs": [
    {
     "name": "stdout",
     "output_type": "stream",
     "text": [
      "kd = 2.2000\n",
      "rt = 1.3333\n",
      "fem = 4636.7\n",
      "fes = 4636.7\n",
      "re = 1.0000\n",
      "k1 = 0.49165\n",
      "k2 = 1.0627\n",
      "k3 = 1.1102\n",
      "zim = 682.87\n",
      "zis = 512.15\n",
      "zii = 251.80\n",
      "ziiim = 241.89\n",
      "ziiis = 189.52\n",
      "ziv = 140.69\n",
      "Z = 140.69\n",
      "W = None\n"
     ]
    }
   ],
   "source": [
    "_16dCOM = WoodDowel(\n",
    "    d=0.162,\n",
    "    gm=0.50,\n",
    "    gs=0.50,\n",
    "    fyb=90e3,\n",
    "    lm=2.0,\n",
    "    ls=1.5,\n",
    ")\n",
    "pdowel(_16dCOM, 0.0)"
   ]
  },
  {
   "cell_type": "markdown",
   "metadata": {},
   "source": [
    "## Example 12.4\n",
    "\n",
    "_Breyer, \"Design of Wood Structures\", page 12.16._\n",
    "\n",
    "8d Box, 12GA to 4x SP, $\\theta$ = 0.0"
   ]
  },
  {
   "cell_type": "code",
   "execution_count": 14,
   "metadata": {},
   "outputs": [
    {
     "name": "stdout",
     "output_type": "stream",
     "text": [
      "kd = 2.2000\n",
      "rt = 22.810\n",
      "fem = 5525.5\n",
      "fes = 61850.\n",
      "re = 0.089338\n",
      "k1 = 0.82345\n",
      "k2 = 0.48672\n",
      "k3 = 6.3200\n",
      "zim = 679.73\n",
      "zis = 333.57\n",
      "zii = 274.68\n",
      "ziiim = 280.69\n",
      "ziiis = 90.143\n",
      "ziv = 106.73\n",
      "Z = 90.143\n",
      "W = None\n"
     ]
    }
   ],
   "source": [
    "nail = WoodDowel(\n",
    "    d=0.113,\n",
    "    gm=0.55,\n",
    "    fe_side=61850.0,\n",
    "    fyb=100e3,\n",
    "    lm=2.5 - 0.105,\n",
    "    ls=0.105,\n",
    ")\n",
    "pdowel(nail, 0.0)"
   ]
  },
  {
   "cell_type": "markdown",
   "metadata": {},
   "source": [
    "## Example 12.5\n",
    "\n",
    "_Breyer, \"Design of Wood Structures\", page 12.20._\n",
    "\n",
    "10d Com, 1/2\" PLY, DFL to 6x HF, $\\theta$ = 0.0"
   ]
  },
  {
   "cell_type": "code",
   "execution_count": 15,
   "metadata": {},
   "outputs": [
    {
     "name": "stdout",
     "output_type": "stream",
     "text": [
      "kd = 2.2000\n",
      "rt = 5.0000\n",
      "fem = 3513.1\n",
      "fes = 4636.7\n",
      "re = 0.75766\n",
      "k1 = 1.3233\n",
      "k2 = 0.91465\n",
      "k3 = 1.9608\n",
      "zim = 590.84\n",
      "zis = 155.96\n",
      "zii = 206.38\n",
      "ziiim = 214.85\n",
      "ziiis = 84.021\n",
      "ziv = 109.03\n",
      "Z = 84.021\n",
      "W = None\n"
     ]
    }
   ],
   "source": [
    "nail = WoodDowel(\n",
    "    d=0.148,\n",
    "    gm=0.43,\n",
    "    gs=0.50,\n",
    "    fyb=90e3,\n",
    "    lm=3.0 - 0.5,\n",
    "    ls=0.5,\n",
    ")\n",
    "pdowel(nail, 0.0)"
   ]
  },
  {
   "cell_type": "code",
   "execution_count": 16,
   "metadata": {},
   "outputs": [
    {
     "name": "stdout",
     "output_type": "stream",
     "text": [
      "kd = 8.0000\n",
      "rt = 6.0000\n",
      "fem = 2578.1\n",
      "fes = 87000.\n",
      "re = 0.029634\n",
      "k1 = 0.11488\n",
      "k2 = 1.2673\n",
      "k3 = 15.794\n",
      "zim = 580.08\n",
      "zis = 3262.5\n",
      "zii = 416.43\n",
      "ziiim = 867.52\n",
      "ziiis = 940.44\n",
      "ziv = 1218.8\n",
      "Z = 416.43\n",
      "W = None\n"
     ]
    }
   ],
   "source": [
    "bolt = wood_bolt(0.75, 1.50, 0.25, side_material=\"A36\", full_diameter=True)\n",
    "pdowel(bolt, 90.0)"
   ]
  },
  {
   "cell_type": "code",
   "execution_count": null,
   "metadata": {},
   "outputs": [],
   "source": []
  }
 ],
 "metadata": {
  "interpreter": {
   "hash": "e457e78b47900efc50d49288f337635c1781340329a2de8c8d6b5456fc7865fa"
  },
  "kernelspec": {
   "display_name": "Python 3.10.4 ('wsweng')",
   "language": "python",
   "name": "python3"
  },
  "language_info": {
   "codemirror_mode": {
    "name": "ipython",
    "version": 3
   },
   "file_extension": ".py",
   "mimetype": "text/x-python",
   "name": "python",
   "nbconvert_exporter": "python",
   "pygments_lexer": "ipython3",
   "version": "3.10.4"
  },
  "orig_nbformat": 4
 },
 "nbformat": 4,
 "nbformat_minor": 2
}

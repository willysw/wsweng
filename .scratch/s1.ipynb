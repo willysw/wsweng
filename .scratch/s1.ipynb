{
 "cells": [
  {
   "cell_type": "code",
   "execution_count": 1,
   "metadata": {},
   "outputs": [],
   "source": [
    "from wsweng.wood.dowels import WoodDowel, wood_bolt\n",
    "from IPython.display import Markdown"
   ]
  },
  {
   "cell_type": "markdown",
   "metadata": {},
   "source": [
    "## Example 12.3\n",
    "\n",
    "_Breyer, \"Design of Wood Structures\", page 12.13._\n",
    "\n",
    "16d, 2x to 4x, DFL, $\\theta$=0.0"
   ]
  },
  {
   "cell_type": "code",
   "execution_count": 2,
   "metadata": {},
   "outputs": [
    {
     "name": "stdout",
     "output_type": "stream",
     "text": [
      "WoodDowel (single shear):\n",
      "   Deff     Zpar    Zperp      W          Lm, (G)            Ls, (G)\n",
      " -------  -------  -------  -------  ------------------  ------------------\n",
      " 0.162\"   140.7#   140.7#      -       2.00\", (0.50)       1.50\", (0.50)    \n",
      "\n"
     ]
    },
    {
     "data": {
      "text/markdown": [
       "| ***Dowel***  | $D_e$ | $Z_{\\parallel}$ | $Z_{\\perp}$| $W$ | $L_m,\\,(G)$ | $L_s,\\,(G)$ |\n",
       "|---|:-:|:-:|:-:|:-:|:-:|:-:|\n",
       "| *(single)* | 0.162\" | 140.7# | 140.7# | - | 2.00\", (0.50) | 1.50\", (0.50) |\n"
      ],
      "text/plain": [
       "WoodDowel(d=0.162, dr=0.162, gm=0.5, gs=0.5, fyb=90000.0, lm=2.0, ls=1.5, w=None, pt=2.0, fe_main=None, fe_side=None, full_diameter=True, double_shear=False)"
      ]
     },
     "execution_count": 2,
     "metadata": {},
     "output_type": "execute_result"
    }
   ],
   "source": [
    "_16dCOM = WoodDowel(\n",
    "    d=0.162,\n",
    "    gm=0.50,\n",
    "    gs=0.50,\n",
    "    fyb=90e3,\n",
    "    lm=2.0,\n",
    "    ls=1.5,\n",
    ")\n",
    "print(_16dCOM)\n",
    "_16dCOM"
   ]
  },
  {
   "cell_type": "markdown",
   "metadata": {},
   "source": [
    "## Example 12.4\n",
    "\n",
    "_Breyer, \"Design of Wood Structures\", page 12.16._\n",
    "\n",
    "8d Box, 12GA to 4x SP, $\\theta$ = 0.0"
   ]
  },
  {
   "cell_type": "code",
   "execution_count": 3,
   "metadata": {},
   "outputs": [
    {
     "name": "stdout",
     "output_type": "stream",
     "text": [
      "WoodDowel (single shear):\n",
      "   Deff     Zpar    Zperp      W          Lm, (G)            Ls, (FE)\n",
      " -------  -------  -------  -------  ------------------  ------------------\n",
      " 0.113\"    90.1#    90.1#      -       2.40\", (0.55)     0.105\", (61.9ksi)  \n",
      "\n"
     ]
    },
    {
     "data": {
      "text/markdown": [
       "| ***Dowel***  | $D_e$ | $Z_{\\parallel}$ | $Z_{\\perp}$| $W$ | $L_m,\\,(G)$ | $L_s,\\,(FE)$ |\n",
       "|---|:-:|:-:|:-:|:-:|:-:|:-:|\n",
       "| *(single)* | 0.113\" | 90.1# | 90.1# | - | 2.40\", (0.55) | 0.105\", (61.9ksi) |\n"
      ],
      "text/plain": [
       "WoodDowel(d=0.113, dr=0.113, gm=0.55, gs=0.5, fyb=100000.0, lm=2.395, ls=0.105, w=None, pt=2.395, fe_main=None, fe_side=61850.0, full_diameter=True, double_shear=False)"
      ]
     },
     "execution_count": 3,
     "metadata": {},
     "output_type": "execute_result"
    }
   ],
   "source": [
    "nail = WoodDowel(\n",
    "    d=0.113,\n",
    "    gm=0.55,\n",
    "    fe_side=61850.0,\n",
    "    fyb=100e3,\n",
    "    lm=2.5 - 0.105,\n",
    "    ls=0.105,\n",
    ")\n",
    "print(nail)\n",
    "nail"
   ]
  },
  {
   "cell_type": "markdown",
   "metadata": {},
   "source": [
    "## Example 12.5\n",
    "\n",
    "_Breyer, \"Design of Wood Structures\", page 12.20._\n",
    "\n",
    "10d Com, 1/2\" PLY, DFL to 6x HF, $\\theta$ = 0.0"
   ]
  },
  {
   "cell_type": "code",
   "execution_count": 4,
   "metadata": {},
   "outputs": [
    {
     "name": "stdout",
     "output_type": "stream",
     "text": [
      "WoodDowel (single shear):\n",
      "   Deff     Zpar    Zperp      W          Lm, (G)            Ls, (G)\n",
      " -------  -------  -------  -------  ------------------  ------------------\n",
      " 0.148\"    84.0#    84.0#      -       2.50\", (0.43)       0.500\", (0.50)   \n",
      " 0.0\n"
     ]
    },
    {
     "data": {
      "text/markdown": [
       "| ***Dowel***  | $D_e$ | $Z_{\\parallel}$ | $Z_{\\perp}$| $W$ | $L_m,\\,(G)$ | $L_s,\\,(G)$ |\n",
       "|---|:-:|:-:|:-:|:-:|:-:|:-:|\n",
       "| *(single)* | 0.148\" | 84.0# | 84.0# | - | 2.50\", (0.43) | 0.500\", (0.50) |\n"
      ],
      "text/plain": [
       "WoodDowel(d=0.148, dr=0.148, gm=0.43, gs=0.5, fyb=90000.0, lm=2.5, ls=0.5, w=None, pt=2.5, fe_main=None, fe_side=None, full_diameter=True, double_shear=False)"
      ]
     },
     "execution_count": 4,
     "metadata": {},
     "output_type": "execute_result"
    }
   ],
   "source": [
    "nail = WoodDowel(\n",
    "    d=0.148,\n",
    "    gm=0.43,\n",
    "    gs=0.50,\n",
    "    fyb=90e3,\n",
    "    lm=3.0 - 0.5,\n",
    "    ls=0.5,\n",
    ")\n",
    "print(nail, 0.0)\n",
    "nail"
   ]
  },
  {
   "cell_type": "code",
   "execution_count": 5,
   "metadata": {},
   "outputs": [
    {
     "name": "stdout",
     "output_type": "stream",
     "text": [
      "WoodDowel (double shear):\n",
      "   Deff     Zpar    Zperp      W          Lm, (G)            Ls, (FE)\n",
      " -------  -------  -------  -------  ------------------  ------------------\n",
      " 0.627\"   1316.7#  484.9#      -       1.50\", (0.50)     0.250\", (87.0ksi)  \n",
      " 90.0\n"
     ]
    },
    {
     "data": {
      "text/markdown": [
       "| ***Dowel***  | $D_e$ | $Z_{\\parallel}$ | $Z_{\\perp}$| $W$ | $L_m,\\,(G)$ | $L_s,\\,(FE)$ |\n",
       "|---|:-:|:-:|:-:|:-:|:-:|:-:|\n",
       "| *(double)* | 0.627\" | 1316.7# | 484.9# | - | 1.50\", (0.50) | 0.250\", (87.0ksi) |\n"
      ],
      "text/plain": [
       "WoodDowel(d=0.75, dr=0.627, gm=0.5, gs=7.8, fyb=45000.0, lm=1.5, ls=0.25, w=None, pt=1.5, fe_main=None, fe_side=87000.0, full_diameter=False, double_shear=True)"
      ]
     },
     "execution_count": 5,
     "metadata": {},
     "output_type": "execute_result"
    }
   ],
   "source": [
    "bolt = wood_bolt(0.75, 1.50, 0.25, side_material=\"A36\", full_diameter=False, double_shear=True)\n",
    "print(bolt, 90.0)\n",
    "bolt"
   ]
  },
  {
   "cell_type": "code",
   "execution_count": null,
   "metadata": {},
   "outputs": [],
   "source": []
  }
 ],
 "metadata": {
  "interpreter": {
   "hash": "e457e78b47900efc50d49288f337635c1781340329a2de8c8d6b5456fc7865fa"
  },
  "kernelspec": {
   "display_name": "Python 3.10.4 ('wsweng')",
   "language": "python",
   "name": "python3"
  },
  "language_info": {
   "codemirror_mode": {
    "name": "ipython",
    "version": 3
   },
   "file_extension": ".py",
   "mimetype": "text/x-python",
   "name": "python",
   "nbconvert_exporter": "python",
   "pygments_lexer": "ipython3",
   "version": "3.10.4"
  },
  "orig_nbformat": 4
 },
 "nbformat": 4,
 "nbformat_minor": 2
}

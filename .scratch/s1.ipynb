{
 "cells": [
  {
   "cell_type": "code",
   "execution_count": 1,
   "metadata": {},
   "outputs": [],
   "source": [
    "from wsweng.wood.dowels import WoodDowel\n",
    "\n",
    "def pdowel(dwl: WoodDowel, theta: float):\n",
    "    for _k, _v in dict(\n",
    "        kd = dwl.kd,\n",
    "        rt = dwl.rt,\n",
    "        re = dwl.re,\n",
    "        k1 = dwl.k1,\n",
    "        k2 = dwl.k2,\n",
    "        k3 = dwl.k3,\n",
    "        zim = dwl.zim(theta),\n",
    "        zis = dwl.zis(theta),\n",
    "        zii = dwl.zii(theta),\n",
    "        ziiim = dwl.ziiim(theta),\n",
    "        ziiis = dwl.ziiis(theta),\n",
    "        ziv = dwl.ziv(theta),\n",
    "        Z = dwl.z(theta)\n",
    "    ).items():\n",
    "        print(f\"{_k} = {_v:#.5g}\")"
   ]
  },
  {
   "cell_type": "markdown",
   "metadata": {},
   "source": [
    "## Example 12.3\n",
    "\n",
    "_Breyer, \"Design of Wood Structures\", page 12.13._\n",
    "\n",
    "16d, 2x to 4x, DFL, $\\theta$=0.0"
   ]
  },
  {
   "cell_type": "code",
   "execution_count": 2,
   "metadata": {},
   "outputs": [
    {
     "name": "stdout",
     "output_type": "stream",
     "text": [
      "kd = 2.2000\n",
      "rt = 1.3333\n",
      "re = 1.0000\n",
      "k1 = 0.49165\n",
      "k2 = 1.0625\n",
      "k3 = 1.1099\n",
      "zim = 684.82\n",
      "zis = 513.61\n",
      "zii = 252.52\n",
      "ziiim = 242.54\n",
      "ziiis = 190.01\n",
      "ziv = 140.89\n",
      "Z = 140.89\n"
     ]
    }
   ],
   "source": [
    "nail = WoodDowel(\n",
    "    deff=0.162,\n",
    "    fem=4650.0,\n",
    "    fes=4650.0,\n",
    "    fyb=90e3,\n",
    "    lm=2.0,\n",
    "    ls=1.5,\n",
    ")\n",
    "pdowel(nail, 0.0)"
   ]
  },
  {
   "cell_type": "markdown",
   "metadata": {},
   "source": [
    "## Example 12.4\n",
    "\n",
    "_Breyer, \"Design of Wood Structures\", page 12.16._\n",
    "\n",
    "8d Box, 12GA to 4x SP, $\\theta$ = 0.0"
   ]
  },
  {
   "cell_type": "code",
   "execution_count": 3,
   "metadata": {},
   "outputs": [
    {
     "name": "stdout",
     "output_type": "stream",
     "text": [
      "kd = 2.2000\n",
      "rt = 22.810\n",
      "re = 0.089733\n",
      "k1 = 0.82699\n",
      "k2 = 0.48694\n",
      "k3 = 6.3049\n",
      "zim = 682.74\n",
      "zis = 333.57\n",
      "zii = 275.86\n",
      "ziiim = 281.87\n",
      "ziiis = 90.307\n",
      "ziv = 106.95\n",
      "Z = 90.307\n"
     ]
    }
   ],
   "source": [
    "nail = WoodDowel(\n",
    "    deff=0.113,\n",
    "    fem=5550.0,\n",
    "    fes=61.85e3,\n",
    "    fyb=100e3,\n",
    "    lm=2.5 - 0.105,\n",
    "    ls=0.105,\n",
    ")\n",
    "pdowel(nail, 0.0)"
   ]
  },
  {
   "cell_type": "markdown",
   "metadata": {},
   "source": [
    "## Example 12.5\n",
    "\n",
    "_Breyer, \"Design of Wood Structures\", page 12.20._\n",
    "\n",
    "10d Com, 1/2\" PLY, DFL to 6x HF, $\\theta$ = 0.0"
   ]
  },
  {
   "cell_type": "code",
   "execution_count": 4,
   "metadata": {},
   "outputs": [
    {
     "name": "stdout",
     "output_type": "stream",
     "text": [
      "kd = 2.2000\n",
      "rt = 5.0000\n",
      "re = 0.75269\n",
      "k1 = 1.3156\n",
      "k2 = 0.91204\n",
      "k3 = 1.9651\n",
      "zim = 588.64\n",
      "zis = 156.41\n",
      "zii = 205.77\n",
      "ziiim = 214.28\n",
      "ziiis = 84.042\n",
      "ziv = 108.98\n",
      "Z = 84.042\n"
     ]
    }
   ],
   "source": [
    "nail = WoodDowel(\n",
    "    deff=0.148,\n",
    "    fem=3500.0,\n",
    "    fes=4650.0,\n",
    "    fyb=90e3,\n",
    "    lm=3.0 - 0.5,\n",
    "    ls=0.5,\n",
    ")\n",
    "pdowel(nail, 0.0)"
   ]
  },
  {
   "cell_type": "code",
   "execution_count": null,
   "metadata": {},
   "outputs": [],
   "source": []
  }
 ],
 "metadata": {
  "interpreter": {
   "hash": "e457e78b47900efc50d49288f337635c1781340329a2de8c8d6b5456fc7865fa"
  },
  "kernelspec": {
   "display_name": "Python 3.10.4 ('wsweng')",
   "language": "python",
   "name": "python3"
  },
  "language_info": {
   "codemirror_mode": {
    "name": "ipython",
    "version": 3
   },
   "file_extension": ".py",
   "mimetype": "text/x-python",
   "name": "python",
   "nbconvert_exporter": "python",
   "pygments_lexer": "ipython3",
   "version": "3.10.4"
  },
  "orig_nbformat": 4
 },
 "nbformat": 4,
 "nbformat_minor": 2
}
